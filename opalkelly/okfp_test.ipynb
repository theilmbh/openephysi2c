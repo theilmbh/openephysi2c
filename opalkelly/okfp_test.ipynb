{
 "cells": [
  {
   "cell_type": "markdown",
   "metadata": {},
   "source": [
    "# Opal Kelly Front Panel API playground\n",
    "#### This is an attempt to use the OK Front Panel python bindings of the SDK libraries.\n",
    "Mostly guided by the examples of https://www.opalkelly.com/examples/\n",
    "Note: this was made on python 3.6, using a xem6010-lx45 on a debian 9.4 system.\n",
    "Refer to installation notes for the sdk (see notes on ./resource/FrontPanel-Ubuntu16.04LTS-x64-5.0.1/README.txt)\n",
    "Also, more documentation on the okfp in http://www.opalkelly.com:8090/display/FPSDK/Basics\n",
    "\n",
    "Other useful resources include:\n",
    "- fpga module for i2c: https://github.com/opalkelly-opensource/I2CController\n",
    "- the reference of the c++library: https://library.opalkelly.com/library/FrontPanelAPI/classokCFrontPanel.html#a20b8caa652f5ace0343c6784de8478db\n"
   ]
  },
  {
   "cell_type": "code",
   "execution_count": 1,
   "metadata": {},
   "outputs": [],
   "source": [
    "import ok\n",
    "import os"
   ]
  },
  {
   "cell_type": "markdown",
   "metadata": {},
   "source": [
    "#### List devices, their serial and model"
   ]
  },
  {
   "cell_type": "code",
   "execution_count": 2,
   "metadata": {},
   "outputs": [
    {
     "data": {
      "text/plain": [
       "[{'model': 13, 'serial': '1540000CP4', 'index': 0}]"
      ]
     },
     "execution_count": 2,
     "metadata": {},
     "output_type": "execute_result"
    }
   ],
   "source": [
    "front_panel = ok.okCFrontPanel()\n",
    "devices = []\n",
    "\n",
    "for i in range(front_panel.GetDeviceCount()):\n",
    "    devices.append({'model': front_panel.GetDeviceListModel(i),\n",
    "                    'serial': front_panel.GetDeviceListSerial(i),\n",
    "                    'index': i})\n",
    "devices"
   ]
  },
  {
   "cell_type": "markdown",
   "metadata": {},
   "source": [
    "### Open a device (say by index) and get its info (as an api-defined object)"
   ]
  },
  {
   "cell_type": "code",
   "execution_count": 3,
   "metadata": {},
   "outputs": [
    {
     "name": "stdout",
     "output_type": "stream",
     "text": [
      "OpenBySerialreturned 0\n",
      "GetDeviceInfo returned 0\n",
      "Device Info:\n",
      "productID: 13\n",
      "productName: XEM6010-LX45\n",
      "serialNumber: 1540000CP4\n",
      "deviceInterface: 1\n",
      "usbSpeed: 2\n"
     ]
    }
   ],
   "source": [
    "device = ok.okCFrontPanel()\n",
    "info_device = ok.okTDeviceInfo();\n",
    "\n",
    "err = device.OpenBySerial(devices[0]['serial'])\n",
    "print('OpenBySerialreturned {}'.format(err))\n",
    "\n",
    "err = device.GetDeviceInfo(info_device)\n",
    "\n",
    "print('GetDeviceInfo returned {}'.format(err))\n",
    "\n",
    "def print_info(info_device):\n",
    "    print('Device Info:')\n",
    "    fields_to_print = ['productID', 'productName', 'serialNumber', 'deviceInterface', 'usbSpeed', ]\n",
    "    for f in fields_to_print:\n",
    "        print('{}: {}'.format(f, info_device.__getattr__(f)))\n",
    "    \n",
    "print_info(info_device)"
   ]
  },
  {
   "cell_type": "code",
   "execution_count": 4,
   "metadata": {},
   "outputs": [
    {
     "data": {
      "text/plain": [
       "True"
      ]
     },
     "execution_count": 4,
     "metadata": {},
     "output_type": "execute_result"
    }
   ],
   "source": [
    "### load an example config file\n",
    "#bit_folder = '/home/ezequiel/repos/playground/opalkelly/resource/20111007-FP40-XEM6010-LX45/XEM6010-LX45'\n",
    "\n",
    "bit_folder = '/home/ezequiel/repos/rhythm'\n",
    "bit_file = 'main.bit'\n",
    "\n",
    "bit_file_path = os.path.join(bit_folder, bit_file) \n",
    "\n",
    "err = device.ConfigureFPGA(bit_file_path)\n",
    "\n",
    "is_fp_enabled = device.IsFrontPanelEnabled()\n",
    "is_fp_enabled"
   ]
  },
  {
   "cell_type": "code",
   "execution_count": 5,
   "metadata": {},
   "outputs": [],
   "source": [
    "a = '6'\n"
   ]
  },
  {
   "cell_type": "code",
   "execution_count": 16,
   "metadata": {},
   "outputs": [
    {
     "ename": "TypeError",
     "evalue": "in method 'okCFrontPanel_WriteI2C', argument 2 of type 'int'",
     "output_type": "error",
     "traceback": [
      "\u001b[0;31m---------------------------------------------------------------------------\u001b[0m",
      "\u001b[0;31mTypeError\u001b[0m                                 Traceback (most recent call last)",
      "\u001b[0;32m<ipython-input-16-9c5d88920954>\u001b[0m in \u001b[0;36m<module>\u001b[0;34m()\u001b[0m\n\u001b[0;32m----> 1\u001b[0;31m \u001b[0mdevice\u001b[0m\u001b[0;34m.\u001b[0m\u001b[0mWriteI2C\u001b[0m\u001b[0;34m(\u001b[0m\u001b[0;34m'A'\u001b[0m\u001b[0;34m,\u001b[0m \u001b[0;34m'0'\u001b[0m \u001b[0;34m)\u001b[0m\u001b[0;34m\u001b[0m\u001b[0m\n\u001b[0m",
      "\u001b[0;32m~/repos/playground/opalkelly/ok.py\u001b[0m in \u001b[0;36mWriteI2C\u001b[0;34m(self, *args)\u001b[0m\n\u001b[1;32m   1048\u001b[0m     \u001b[0;32mdef\u001b[0m \u001b[0mReadFromBlockPipeOutThr\u001b[0m\u001b[0;34m(\u001b[0m\u001b[0mself\u001b[0m\u001b[0;34m,\u001b[0m \u001b[0;34m*\u001b[0m\u001b[0margs\u001b[0m\u001b[0;34m)\u001b[0m \u001b[0;34m->\u001b[0m \u001b[0;34m\"long\"\u001b[0m \u001b[0;34m:\u001b[0m \u001b[0;32mreturn\u001b[0m \u001b[0m_ok\u001b[0m\u001b[0;34m.\u001b[0m\u001b[0mokCFrontPanel_ReadFromBlockPipeOutThr\u001b[0m\u001b[0;34m(\u001b[0m\u001b[0mself\u001b[0m\u001b[0;34m,\u001b[0m \u001b[0;34m*\u001b[0m\u001b[0margs\u001b[0m\u001b[0;34m)\u001b[0m\u001b[0;34m\u001b[0m\u001b[0m\n\u001b[1;32m   1049\u001b[0m     \u001b[0;32mdef\u001b[0m \u001b[0mReadI2C\u001b[0m\u001b[0;34m(\u001b[0m\u001b[0mself\u001b[0m\u001b[0;34m,\u001b[0m \u001b[0;34m*\u001b[0m\u001b[0margs\u001b[0m\u001b[0;34m)\u001b[0m \u001b[0;34m->\u001b[0m \u001b[0;34m\"okCFrontPanel::ErrorCode\"\u001b[0m \u001b[0;34m:\u001b[0m \u001b[0;32mreturn\u001b[0m \u001b[0m_ok\u001b[0m\u001b[0;34m.\u001b[0m\u001b[0mokCFrontPanel_ReadI2C\u001b[0m\u001b[0;34m(\u001b[0m\u001b[0mself\u001b[0m\u001b[0;34m,\u001b[0m \u001b[0;34m*\u001b[0m\u001b[0margs\u001b[0m\u001b[0;34m)\u001b[0m\u001b[0;34m\u001b[0m\u001b[0m\n\u001b[0;32m-> 1050\u001b[0;31m     \u001b[0;32mdef\u001b[0m \u001b[0mWriteI2C\u001b[0m\u001b[0;34m(\u001b[0m\u001b[0mself\u001b[0m\u001b[0;34m,\u001b[0m \u001b[0;34m*\u001b[0m\u001b[0margs\u001b[0m\u001b[0;34m)\u001b[0m \u001b[0;34m->\u001b[0m \u001b[0;34m\"okCFrontPanel::ErrorCode\"\u001b[0m \u001b[0;34m:\u001b[0m \u001b[0;32mreturn\u001b[0m \u001b[0m_ok\u001b[0m\u001b[0;34m.\u001b[0m\u001b[0mokCFrontPanel_WriteI2C\u001b[0m\u001b[0;34m(\u001b[0m\u001b[0mself\u001b[0m\u001b[0;34m,\u001b[0m \u001b[0;34m*\u001b[0m\u001b[0margs\u001b[0m\u001b[0;34m)\u001b[0m\u001b[0;34m\u001b[0m\u001b[0m\n\u001b[0m\u001b[1;32m   1051\u001b[0m \u001b[0mokCFrontPanel_swigregister\u001b[0m \u001b[0;34m=\u001b[0m \u001b[0m_ok\u001b[0m\u001b[0;34m.\u001b[0m\u001b[0mokCFrontPanel_swigregister\u001b[0m\u001b[0;34m\u001b[0m\u001b[0m\n\u001b[1;32m   1052\u001b[0m \u001b[0mokCFrontPanel_swigregister\u001b[0m\u001b[0;34m(\u001b[0m\u001b[0mokCFrontPanel\u001b[0m\u001b[0;34m)\u001b[0m\u001b[0;34m\u001b[0m\u001b[0m\n",
      "\u001b[0;31mTypeError\u001b[0m: in method 'okCFrontPanel_WriteI2C', argument 2 of type 'int'"
     ]
    }
   ],
   "source": [
    "device.WriteI2C('A', '0' )"
   ]
  },
  {
   "cell_type": "code",
   "execution_count": 4,
   "metadata": {},
   "outputs": [],
   "source": [
    "#xem.WriteI2C(dev_addr, msg_len, msg)"
   ]
  },
  {
   "cell_type": "code",
   "execution_count": 1,
   "metadata": {},
   "outputs": [
    {
     "name": "stdout",
     "output_type": "stream",
     "text": [
      "Enter password: ········\n",
      "Verify password: ········\n"
     ]
    },
    {
     "data": {
      "text/plain": [
       "'sha1:62bff95d7b71:797ec63b4ffe271396156d4170df4256c4effd34'"
      ]
     },
     "execution_count": 1,
     "metadata": {},
     "output_type": "execute_result"
    }
   ],
   "source": [
    "from notebook.auth import passwd\n",
    "passwd()"
   ]
  },
  {
   "cell_type": "code",
   "execution_count": null,
   "metadata": {},
   "outputs": [],
   "source": []
  }
 ],
 "metadata": {
  "kernelspec": {
   "display_name": "Python 3",
   "language": "python",
   "name": "python3"
  },
  "language_info": {
   "codemirror_mode": {
    "name": "ipython",
    "version": 3
   },
   "file_extension": ".py",
   "mimetype": "text/x-python",
   "name": "python",
   "nbconvert_exporter": "python",
   "pygments_lexer": "ipython3",
   "version": "3.6.5"
  }
 },
 "nbformat": 4,
 "nbformat_minor": 2
}
